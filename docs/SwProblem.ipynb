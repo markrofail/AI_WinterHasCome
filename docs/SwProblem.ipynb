{
 "cells": [
  {
   "cell_type": "markdown",
   "metadata": {},
   "source": [
    "## The Save Westeros Problem"
   ]
  },
  {
   "cell_type": "markdown",
   "metadata": {},
   "source": [
    "is a subclass of the SearchProblem ADT"
   ]
  },
  {
   "cell_type": "code",
   "execution_count": null,
   "metadata": {},
   "outputs": [],
   "source": [
    "class SwProblem(Problem):"
   ]
  },
  {
   "cell_type": "markdown",
   "metadata": {},
   "source": [
    "It overides the five instance variables/methods to represent the context of the project\n"
   ]
  },
  {
   "cell_type": "markdown",
   "metadata": {},
   "source": [
    "1. set of operators, or actions, available to the agent.\n",
    "\n",
    "This method returns only operators that are available to the agent in the current state. For example he can only move forward if there's no white walker/obstacle blocking the path and he's not at the boundary of the grid. He can only kill if there are white_walkers surrounding him and he has some dragon glass."
   ]
  },
  {
   "cell_type": "code",
   "execution_count": null,
   "metadata": {},
   "outputs": [],
   "source": [
    "    # 1. A set of operators, or actions, available to the agent.\n",
    "    def valid_operators(self, state):\n",
    "        \"\"\"list of **valid** action to be performed on state\"\"\"\n",
    "        operators = list()\n",
    "        x, y = state.location()\n",
    "\n",
    "        if state.grid.is_safe_location((x - 1, y)):\n",
    "            operators.append(Operators.LEFT)\n",
    "\n",
    "        if state.grid.is_safe_location((x + 1, y)):\n",
    "            operators.append(Operators.RIGHT)\n",
    "\n",
    "        if state.grid.is_safe_location((x, y - 1)):\n",
    "            operators.append(Operators.FORWARD)\n",
    "\n",
    "        if state.grid.is_safe_location((x, y + 1)):\n",
    "            operators.append(Operators.BACKWARD)\n",
    "\n",
    "        has_dragon_glass = state.dragon_glass() > 0\n",
    "        ww_locations = state.grid.nearby_white_walkers(state.location())\n",
    "        ww_surrounding = len(ww_locations) > 0\n",
    "\n",
    "        if has_dragon_glass and ww_surrounding:\n",
    "            operators.append(Operators.KILL)\n",
    "        return operators"
   ]
  },
  {
   "cell_type": "markdown",
   "metadata": {},
   "source": [
    "    2. An initial state.\n",
    "    \n",
    "  The initial state is initialised by the constructor automatically. Every state has an instance of the grid, since the grid changes according to each operator done on the state"
   ]
  },
  {
   "cell_type": "code",
   "execution_count": null,
   "metadata": {},
   "outputs": [],
   "source": [
    "\n",
    "    # 2. An initial state.\n",
    "    initial_state = None\n",
    "\n",
    "    # *. Problem Constructor\n",
    "    def __init__(self, grid):\n",
    "        self.initial_state = SwState(\n",
    "            grid=grid,\n",
    "        )"
   ]
  },
  {
   "cell_type": "markdown",
   "metadata": {},
   "source": [
    "    3. A state space: the set of states reachable from the initial state by any sequence of actions.\n",
    "\n",
    "In lieu of a state space, a `result` method is defined which defines a resultant state from the application of an operator on the current state. If the operator is a moving operator (i.e LEFT, RIGHT, FORWARD, BACKWARD). Then assign this new location to the child state. Else we know that only other operator is KILL, then we kill all the white walkers in the adjacent locations in the subsquent state. We don't need to check these actions since they are only performed if they are valid as the previous method ensures that."
   ]
  },
  {
   "cell_type": "code",
   "execution_count": null,
   "metadata": {},
   "outputs": [],
   "source": [
    "    # 3. A state space: the set of states reachable from the initial state by\n",
    "    # any sequence of actions.\n",
    "    def result(self, state, operator):\n",
    "        \"\"\"resultant state from performing the given operator on the given state.\"\"\"\n",
    "        moving_operators = [Operators.LEFT, Operators.RIGHT, Operators.FORWARD, Operators.BACKWARD]\n",
    "        if operator in moving_operators:\n",
    "            x, y = state.location()\n",
    "\n",
    "            if operator == Operators.LEFT:\n",
    "                x -= 1\n",
    "            if operator == Operators.RIGHT:\n",
    "                x += 1\n",
    "            if operator == Operators.FORWARD:\n",
    "                y -= 1\n",
    "            if operator == Operators.BACKWARD:\n",
    "                y += 1\n",
    "\n",
    "            new_location = x, y\n",
    "            return SwState(\n",
    "                grid=state.grid,\n",
    "                location=new_location,\n",
    "            )\n",
    "\n",
    "        else:\n",
    "            return SwState(\n",
    "                grid=state.grid,\n",
    "                white_walkers=True,\n",
    "            )"
   ]
  },
  {
   "cell_type": "markdown",
   "metadata": {},
   "source": [
    "    4. A goal test, which the agent applies to a state to determine if it is a goal state.\n",
    "The function returns true if the state has no white walkers"
   ]
  },
  {
   "cell_type": "code",
   "execution_count": null,
   "metadata": {},
   "outputs": [],
   "source": [
    "    # 4. A goal test, which the agent applies to a state to determine if it is\n",
    "    # a goal state.\n",
    "    def goal_test(self, state):\n",
    "        \"\"\"goal predicate\"\"\"\n",
    "        return state.white_walkers() == 0"
   ]
  },
  {
   "cell_type": "markdown",
   "metadata": {},
   "source": [
    "    5. A path cost function: a function that assigns cost to an action\n",
    "This is done by defining a dictionary, which contains the respective costs to each operator"
   ]
  },
  {
   "cell_type": "code",
   "execution_count": null,
   "metadata": {},
   "outputs": [],
   "source": [
    "    # 5. A path cost function: a function that assigns cost to an action\n",
    "    def cost_function(self, action):\n",
    "        \"\"\"sum of action sequence\"\"\"\n",
    "        cost_dict = dict([\n",
    "            (Operators.LEFT, 2),\n",
    "            (Operators.RIGHT, 2),\n",
    "            (Operators.FORWARD, 2),\n",
    "            (Operators.BACKWARD, 2),\n",
    "            (Operators.KILL, 3),\n",
    "        ])\n",
    "        return cost_dict[action]"
   ]
  }
 ],
 "metadata": {
  "kernelspec": {
   "display_name": "Python 3",
   "language": "python",
   "name": "python3"
  },
  "language_info": {
   "codemirror_mode": {
    "name": "ipython",
    "version": 3
   },
   "file_extension": ".py",
   "mimetype": "text/x-python",
   "name": "python",
   "nbconvert_exporter": "python",
   "pygments_lexer": "ipython3",
   "version": "3.6.4"
  }
 },
 "nbformat": 4,
 "nbformat_minor": 2
}
