{
 "cells": [
  {
   "cell_type": "markdown",
   "metadata": {},
   "source": [
    "### Heuristic Definitions"
   ]
  },
  {
   "cell_type": "markdown",
   "metadata": {},
   "source": [
    "The same heuristics are used for Greedy Search are used for A* Search"
   ]
  },
  {
   "cell_type": "markdown",
   "metadata": {},
   "source": [
    "#### First Heuristic\n",
    "\n",
    "returns smallest distance between white walkers or dragon stone and current position"
   ]
  },
  {
   "cell_type": "code",
   "execution_count": null,
   "metadata": {},
   "outputs": [],
   "source": [
    "def heuristic_1(node):\n",
    "    \"\"\"returns smallest distance between white walkers or dragon stone and current position\"\"\"\n",
    "    x_node, y_node = node.state.location()\n",
    "    goals = node.state.grid.components.white_walkers\n",
    "    goals.append(node.state.grid.components.dragon_stone)\n",
    "    distance = [np.sqrt((x_node - x)**2 + (y_node - y)**2) for x, y in goals]\n",
    "    return distance[np.argmin(distance)]"
   ]
  },
  {
   "cell_type": "markdown",
   "metadata": {},
   "source": [
    "<img src=\"images/grid_calc.png\" alt=\"drawing\" height=\"350\" align=\"left\"/>"
   ]
  },
  {
   "cell_type": "markdown",
   "metadata": {},
   "source": [
    "Considering the above grid, the distances from Jon Snow to the white walkers are: \n",
    "\n",
    "|       White Walkers      | Distance Calculations | Distance Output |\n",
    "|:------------------------:|:---------------------:|:---------------:|\n",
    "| White Walker<sub>A</sub> | $$\\sqrt{(1-3)^2 + (4-3)^2}$$ | $$\\sqrt{5}$$ |\n",
    "| White Walker<sub>B</sub> | $$\\sqrt{(2-3)^2 + (2-3)^2}$$ | $$\\sqrt{2}$$ |\n",
    "| White Walker<sub>C</sub> | $$\\sqrt{(4-3)^2 + (4-3)^2}$$ | $$\\sqrt{2}$$ |\n",
    "\n",
    "To reach the goal state where there are no white walkers, Jon needs to reach each of them then stab.\n",
    "\n",
    "Even if there was only one white walker, killing it requires\n",
    "$$MoveCost \\times ManhattanDistance + KillCost = \n",
    "2 \\times ManhattanDistance + 3$$\n",
    "\n",
    "and since Euclidean Distance is always smaller than or equal Manhattan Distance because of the pythagoras theorem. Then the first heuristic is admissable"
   ]
  },
  {
   "cell_type": "markdown",
   "metadata": {},
   "source": [
    "#### Second Heuristic\n",
    "\n",
    "returns sum of distances between white walkers and current position"
   ]
  },
  {
   "cell_type": "code",
   "execution_count": null,
   "metadata": {},
   "outputs": [],
   "source": [
    "def heuristic_2(node):\n",
    "    \"\"\"returns sum of distances between white walkers and current position\"\"\"\n",
    "    x_node, y_node = node.state.location()\n",
    "    goals = node.state.grid.components.white_walkers\n",
    "    distance = [np.sqrt((x_node - x)**2 + (y_node - y)**2) for x, y in goals]\n",
    "    return np.sum(distance)"
   ]
  },
  {
   "cell_type": "markdown",
   "metadata": {},
   "source": [
    "<img src=\"images/grid2.png\" alt=\"drawing\" height=\"350\" align=\"left\"/>"
   ]
  },
  {
   "cell_type": "markdown",
   "metadata": {},
   "source": [
    "Considering the above grid, the distances from Jon Snow to the white walkers are: \n",
    "\n",
    "|       White Walkers      | Distance Calculations | Distance Output |\n",
    "|:------------------------:|:---------------------:|:---------------:|\n",
    "| White Walker<sub>A</sub> | $$\\sqrt{(2-3)^2 + (3-3)^2}$$ | $$1$$ |\n",
    "| White Walker<sub>B</sub> | $$\\sqrt{(3-3)^2 + (2-3)^2}$$ | $$1$$ |\n",
    "| White Walker<sub>B</sub> | $$\\sqrt{(3-3)^2 + (4-3)^2}$$ | $$1$$ |\n",
    "\n",
    "To reach the goal state where there are no white walkers, Jon needs to reach each of them then stab.\n",
    "\n",
    "At most Jon will be surrounded by *three* white walkers (one is empty as an entry point) and Stabbing costs 3 while the sum of euclidean distances is 3. Thus this always underestimates the cost thus admissable"
   ]
  },
  {
   "cell_type": "markdown",
   "metadata": {},
   "source": [
    "#### Third Heuristic\n",
    "\n",
    "returns number of white_walkers"
   ]
  },
  {
   "cell_type": "code",
   "execution_count": null,
   "metadata": {},
   "outputs": [],
   "source": [
    "def heuristic_3(node):\n",
    "    \"\"\"number of white_walkers\"\"\"\n",
    "    return node.state.white_walkers()"
   ]
  },
  {
   "cell_type": "markdown",
   "metadata": {},
   "source": [
    "The number of white walkers is always going to be less than the cost of actions to kill the white walkers"
   ]
  },
  {
   "cell_type": "markdown",
   "metadata": {},
   "source": [
    "Considering the previous grid, the distances from Jon Snow to the white walkers are: \n",
    "\n",
    "To reach the goal state where there are no white walkers, Jon needs to reach each of them then stab.\n",
    "\n",
    "At most Jon will be surrounded by *three* white walkers (one is empty as an entry point) and Stabbing costs 3 while the are 3 white walkers. Thus this always underestimates the cost thus admissable"
   ]
  }
 ],
 "metadata": {
  "kernelspec": {
   "display_name": "Python 3",
   "language": "python",
   "name": "python3"
  },
  "language_info": {
   "codemirror_mode": {
    "name": "ipython",
    "version": 3
   },
   "file_extension": ".py",
   "mimetype": "text/x-python",
   "name": "python",
   "nbconvert_exporter": "python",
   "pygments_lexer": "ipython3",
   "version": "3.6.4"
  }
 },
 "nbformat": 4,
 "nbformat_minor": 2
}
