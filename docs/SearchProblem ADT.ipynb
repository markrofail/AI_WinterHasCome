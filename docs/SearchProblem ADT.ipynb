{
 "cells": [
  {
   "cell_type": "markdown",
   "metadata": {},
   "source": [
    "## This is the implementation for the SeachProblem ADT"
   ]
  },
  {
   "cell_type": "code",
   "execution_count": null,
   "metadata": {},
   "outputs": [],
   "source": [
    "class Problem:\n",
    "    \"\"\"Abstract Class: Formal Problem\"\"\"\n",
    "    # A problem is defined as a 5-tuple:"
   ]
  },
  {
   "cell_type": "markdown",
   "metadata": {},
   "source": [
    "The search problem is defined as a 5-tuple, therfore its corresponding implementation\n",
    "#### It has five instance variables/methods\n",
    "1. A set of operators, or actions, available to the agent.\n",
    "2. An initial state.\n",
    "3. A state space: the set of states reachable from the initial state by any sequence of actions.\n",
    "4. A goal test, which the agent applies to a state to determine if it is a goal state.\n",
    "5. A path cost function: a function that assigns cost to a sequence of actions. Typically, it is the sum of the costs of individual actions in the sequence."
   ]
  },
  {
   "cell_type": "code",
   "execution_count": null,
   "metadata": {},
   "outputs": [],
   "source": [
    "    # 1. A set of operators, or actions, available to the agent.\n",
    "    def valid_operators(self, state):\n",
    "        pass\n",
    "\n",
    "    # 2. An initial state.\n",
    "    initial_state = None\n",
    "\n",
    "    # 3. A state space: the set of states reachable from the initial state by\n",
    "    # any sequence of actions.\n",
    "    def result(self, state, operator):\n",
    "        \"\"\"resultant state from performing the given operator on the given state.\"\"\"\n",
    "        pass\n",
    "\n",
    "    # 4. A goal test, which the agent applies to a state to determine if it is\n",
    "    # a goal state.\n",
    "    def goal_test(self, state):\n",
    "        \"\"\"goal predicate\"\"\"\n",
    "        pass\n",
    "\n",
    "    # 5. A path cost function: a function that assigns cost to a sequence of\n",
    "    # actions\n",
    "    def cost_function(self, actions):\n",
    "        \"\"\"sum of action sequence\"\"\"\n",
    "        pass\n"
   ]
  }
 ],
 "metadata": {
  "kernelspec": {
   "display_name": "Python 3",
   "language": "python",
   "name": "python3"
  },
  "language_info": {
   "codemirror_mode": {
    "name": "ipython",
    "version": 3
   },
   "file_extension": ".py",
   "mimetype": "text/x-python",
   "name": "python",
   "nbconvert_exporter": "python",
   "pygments_lexer": "ipython3",
   "version": "3.6.4"
  }
 },
 "nbformat": 4,
 "nbformat_minor": 2
}
