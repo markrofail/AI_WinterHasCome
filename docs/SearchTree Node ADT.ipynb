{
 "cells": [
  {
   "cell_type": "markdown",
   "metadata": {},
   "source": [
    "## This is the implementation for the SearchTree Node\n",
    "\n"
   ]
  },
  {
   "cell_type": "code",
   "execution_count": null,
   "metadata": {},
   "outputs": [],
   "source": [
    "class Node:\n",
    "    \"\"\"Abstract Class: Formal Node\"\"\"\n",
    "    # A Node is defined as a 5-tuple:\n"
   ]
  },
  {
   "cell_type": "markdown",
   "metadata": {},
   "source": [
    "The search tree node is defined as a 5-tuple, therfore its corresponding implementation\n",
    "#### It has five instance variables\n",
    "1. The state of the state space that this node corresponds to.\n",
    "2. The parent node.\n",
    "3. The operator applied to generate this node.\n",
    "4. The depth of the node in the tree.\n",
    "5. The path cost from the root"
   ]
  },
  {
   "cell_type": "code",
   "execution_count": null,
   "metadata": {},
   "outputs": [],
   "source": [
    "    # 1. The state of the state space that this node corresponds to.\n",
    "    state = None\n",
    "\n",
    "    # 2. The parent node.\n",
    "    parent = None\n",
    "\n",
    "    # 3. The operator applied to generate this node.\n",
    "    operator = None\n",
    "\n",
    "    # 4. The depth of the node in the tree.\n",
    "    depth = None\n",
    "\n",
    "    # 5. The path cost from the root.\n",
    "    path_cost = None"
   ]
  },
  {
   "cell_type": "markdown",
   "metadata": {},
   "source": [
    "They are instantiated inside the constructor"
   ]
  },
  {
   "cell_type": "code",
   "execution_count": null,
   "metadata": {},
   "outputs": [],
   "source": [
    "    # *. Node Constructor\n",
    "    def __init__(self, state, parent=None, operator=None, path_cost=0):\n",
    "        self.state = state\n",
    "        self.parent = parent\n",
    "        self.operator = operator\n",
    "        self.path_cost = path_cost\n",
    "\n",
    "        self.depth = 0\n",
    "        if parent:\n",
    "            self.depth = parent.depth + 1"
   ]
  },
  {
   "cell_type": "markdown",
   "metadata": {},
   "source": [
    "To expand a node and recieve its children nodes we utilise two methods.\n",
    "\n",
    "The `expand` method passes the `problem and the operator` to its helper method `child_node` and returns its child node containing the respective state.\n",
    "\n",
    "The `child_node` method takes the `problem and the operator` and applies the operator on the current node by passing its state to `problem.result(state, operator)` and recieving the corresponding state and making a node out of it"
   ]
  },
  {
   "cell_type": "code",
   "execution_count": null,
   "metadata": {},
   "outputs": [],
   "source": [
    "    def expand(self, problem):\n",
    "        \"\"\"applies all **valid** operators on current state\"\"\"\n",
    "        return [self.child_node(problem, operator)\n",
    "                for operator in problem.valid_operators(self.state)]\n",
    "\n",
    "    def child_node(self, problem, operator):\n",
    "        \"\"\"creates a child node by applying an operator on current state\"\"\"\n",
    "        child_state = problem.result(self.state, operator)\n",
    "        path_cost = self.path_cost+problem.cost_function(operator)\n",
    "\n",
    "        return Node(\n",
    "            state=child_state,\n",
    "            parent=self,\n",
    "            operator=operator,\n",
    "            path_cost=path_cost\n",
    "        )"
   ]
  },
  {
   "cell_type": "markdown",
   "metadata": {},
   "source": [
    "The last method returns a path to the node from the root by traversing its ancestors"
   ]
  },
  {
   "cell_type": "code",
   "execution_count": null,
   "metadata": {},
   "outputs": [],
   "source": [
    "    def path(self):\n",
    "        \"\"\"list of nodes from the root to this node.\"\"\"\n",
    "        node = self\n",
    "        node_path = list()\n",
    "        while True:\n",
    "            node_path.append(node)\n",
    "            node = node.parent\n",
    "            if not node:\n",
    "                return node_path"
   ]
  }
 ],
 "metadata": {
  "kernelspec": {
   "display_name": "Python 3",
   "language": "python",
   "name": "python3"
  },
  "language_info": {
   "codemirror_mode": {
    "name": "ipython",
    "version": 3
   },
   "file_extension": ".py",
   "mimetype": "text/x-python",
   "name": "python",
   "nbconvert_exporter": "python",
   "pygments_lexer": "ipython3",
   "version": "3.6.4"
  }
 },
 "nbformat": 4,
 "nbformat_minor": 2
}
