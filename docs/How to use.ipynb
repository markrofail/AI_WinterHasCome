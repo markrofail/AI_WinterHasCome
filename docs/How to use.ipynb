{
 "cells": [
  {
   "cell_type": "markdown",
   "metadata": {},
   "source": [
    "### How To Use"
   ]
  },
  {
   "cell_type": "markdown",
   "metadata": {},
   "source": [
    "#### Install Dependencies\n",
    "\n",
    "```\n",
    "pip install -r requirements.txt\n",
    "```"
   ]
  },
  {
   "cell_type": "markdown",
   "metadata": {},
   "source": [
    "#### How to run\n",
    "There is a makefile included to simply the use of the code\n",
    "\n",
    "| command                  | usage                                                      |\n",
    "|--------------------------|------------------------------------------------------------|\n",
    "| make generate            | generates a random grid                                    |\n",
    "| make visualize           | includes solution trace in output                          |\n",
    "| make breadth_first       | runs breath first search on a random grid                  |\n",
    "| make depth_frist         | runs depth first search on a random grid                   |\n",
    "| make iterative_deepening | runs iterative deepening search on a random grid           |\n",
    "| make uniform_cost        | runs uniform cost search on a random grid                  |\n",
    "| make greedy_1st          | runs greed search using the 1st heuristic on a random grid |\n",
    "| make greedy_2nd          | runs greed search using the 2nd heuristic on a random grid |\n",
    "| make greedy_3rd          | runs greed search using the 3rd heuristic on a random grid |\n",
    "| make astar_1st           | runs A* search using the 1st heuristic on a random grid    |\n",
    "| make astar_2nd           | runs A* search using the 2nd heuristic on a random grid    |\n",
    "| make astar_3d            | runs A* search using the 3rd heuristic on a random grid    |\n",
    "| make generate            | generates a random grid                                    |\n",
    "| make visualize breadth_first       | runs breath first search on a random grid  and displays path                 |\n",
    "| make visualize depth_frist         | runs depth first search on a random grid  and displays path                 |\n",
    "| make visualize iterative_deepening | runs iterative deepening search on a random grid and displays path           |\n",
    "| make visualize uniform_cost        | runs uniform cost search on a random grid  and displays path                 |\n",
    "| make visualize greedy_1st          | runs greed search using the 1st heuristic on a random grid and displays path |\n",
    "| make visualize greedy_2nd          | runs greed search using the 2nd heuristic on a random grid and displays path |\n",
    "| make visualize greedy_3rd          | runs greed search using the 3rd heuristic on a random grid and displays path |\n",
    "| make visualize astar_1st           | runs A* search using the 1st heuristic on a random grid    and displays path |\n",
    "| make visualize astar_2nd           | runs A* search using the 2nd heuristic on a random grid    and displays path |\n",
    "| make visualize astar_3d            | runs A* search using the 3rd heuristic on a random grid    and displays path |\n",
    "\n",
    "if `visualize` keyword is included in the command like `make visualize breadth_first` will print the solution strace "
   ]
  },
  {
   "cell_type": "markdown",
   "metadata": {},
   "source": [
    "#### How to interpret ouput\n",
    "\n",
    "Three things will be printed:\n",
    "0. Initial Grid\n",
    "1. Solution Path Cost\n",
    "2. Number of nodes expanded\n",
    "3. if visualize is used print the solution stack strace\n"
   ]
  }
 ],
 "metadata": {
  "kernelspec": {
   "display_name": "Python 3",
   "language": "python",
   "name": "python3"
  },
  "language_info": {
   "codemirror_mode": {
    "name": "ipython",
    "version": 3
   },
   "file_extension": ".py",
   "mimetype": "text/x-python",
   "name": "python",
   "nbconvert_exporter": "python",
   "pygments_lexer": "ipython3",
   "version": "3.6.4"
  }
 },
 "nbformat": 4,
 "nbformat_minor": 2
}
