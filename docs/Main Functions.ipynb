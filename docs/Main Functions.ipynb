{
 "cells": [
  {
   "cell_type": "markdown",
   "metadata": {},
   "source": [
    "## Main Mrthods"
   ]
  },
  {
   "cell_type": "markdown",
   "metadata": {},
   "source": [
    "#### main method\n",
    "It recieves two parameters via command line: Strategy (int) corresponds to the search strategy chosen and visualize (boolean) if the path to the goal node is to be visualized. It calls gen_grid() and pases the generated grid to the search method."
   ]
  },
  {
   "cell_type": "code",
   "execution_count": null,
   "metadata": {},
   "outputs": [],
   "source": [
    "@click.command()\n",
    "@click.option(\n",
    "    '--strategy',\n",
    "    type=int,\n",
    "    default=0,\n",
    "    help='search strategy to use'\n",
    ")\n",
    "@click.option(\n",
    "    '--visualize',\n",
    "    is_flag=True,\n",
    "    help='print trace'\n",
    ")\n",
    "def main(strategy=0, visualize=False):\n",
    "    grid_instance = generate.gen_grid()\n",
    "    search(grid_instance, strategy, visualize=visualize)"
   ]
  },
  {
   "cell_type": "markdown",
   "metadata": {},
   "source": [
    "#### search method\n",
    "\n",
    "recieves a grid which it creates a `SaveWesteros Problem` and then matches the correct search strategy corresponding to the `strategy` value and print a visualization if `visualize` is equal to `True`"
   ]
  },
  {
   "cell_type": "code",
   "execution_count": null,
   "metadata": {},
   "outputs": [],
   "source": [
    "def search(grid, strategy, visualize):\n",
    "    problem = SwProblem(grid)\n",
    "    print('Initial State:\\n', grid)\n",
    "\n",
    "    if strategy == Strategies.BF:\n",
    "        solution, count = sc.breadth_first_search(problem)\n",
    "    if strategy == Strategies.DF:\n",
    "        solution, count = sc.depth_first_search(problem)\n",
    "    if strategy == Strategies.ID:\n",
    "        solution, count = sc.iterative_deepening_search(problem)\n",
    "    if strategy == Strategies.UC:\n",
    "        solution, count = sc.uniform_cost_search(problem)\n",
    "    if strategy == Strategies.GR_1:\n",
    "        solution, count = sc.greedy_search_1(problem)\n",
    "    if strategy == Strategies.GR_2:\n",
    "        solution, count = sc.greedy_search_2(problem)\n",
    "    if strategy == Strategies.GR_3:\n",
    "        solution, count = sc.greedy_search_3(problem)\n",
    "    if strategy == Strategies.AS_1:\n",
    "        solution, count = sc.a_star_1(problem)\n",
    "    if strategy == Strategies.AS_2:\n",
    "        solution, count = sc.a_star_2(problem)\n",
    "    if strategy == Strategies.AS_3:\n",
    "        solution, count = sc.a_star_3(problem)\n",
    "\n",
    "    print('Total number of expanded nodes:', count)\n",
    "    print('Total solution path cost:', solution.path_cost)\n",
    "    if visualize:\n",
    "        print('Solution Trace:')\n",
    "        visualize_solution(solution)"
   ]
  },
  {
   "cell_type": "markdown",
   "metadata": {},
   "source": [
    "#### visualize_solution\n",
    "which prints the sequence of action the agent takes from the initial state to the goal state"
   ]
  },
  {
   "cell_type": "code",
   "execution_count": null,
   "metadata": {},
   "outputs": [],
   "source": [
    "def visualize_solution(node):\n",
    "    while node:\n",
    "        print(node)\n",
    "        node = node.parent"
   ]
  },
  {
   "cell_type": "markdown",
   "metadata": {},
   "source": [
    "#### gen_grid\n",
    "\n",
    "1. it first initializes the `Grid` object with a 2D array\n",
    "2. then it initializes a `Jon` object with a randomly generated dragon class capacity\n",
    "3. then the grid is filled with a random number of white walkers and obstacles\n",
    "4. then only one dragon stone is places in the grid"
   ]
  },
  {
   "cell_type": "markdown",
   "metadata": {},
   "source": [
    "example output:\n",
    "```\n",
    "m→\n",
    "n↓ A  B  C  D  E  F  G  H \n",
    "0 [ ][ ][ ][ ][X][ ][ ][ ]\n",
    "1 [ ][ ][ ][ ][ ][ ][ ][ ]\n",
    "2 [X][ ][ ][ ][X][ ][ ][X]\n",
    "3 [ ][X][ ][ ][X][ ][ ][W]\n",
    "4 [ ][ ][ ][ ][ ][ ][W][D]\n",
    "5 [ ][ ][ ][ ][ ][ ][ ][ ]\n",
    "6 [ ][X][ ][ ][ ][ ][ ][J]\n",
    "```\n",
    "\n",
    "where:\n",
    "- `X` denotes an obstacles\n",
    "- `W` denotes a white walker\n",
    "- `D` denotes a dragon glass\n",
    "- `J` desnotes Jon Snow"
   ]
  },
  {
   "cell_type": "code",
   "execution_count": null,
   "metadata": {},
   "outputs": [],
   "source": [
    "def gen_grid():\n",
    "    # initialize an empty grid\n",
    "    m, n = np.random.randint(4, 10, size=(2,))\n",
    "    grid = Grid(m, n)\n",
    "\n",
    "    # place Jon at m, n\n",
    "    grid.init_jon(\n",
    "        location=(m - 1, n - 1),\n",
    "        capacity=np.random.randint(1, 10),\n",
    "    )\n",
    "\n",
    "    # fill with white walkers and obstacles\n",
    "    grid.fill_with(Cell.WHITE_WALKER)\n",
    "    grid.fill_with(Cell.OBSTACLE)\n",
    "\n",
    "    # place one dragon stone randomly\n",
    "    grid.fill_with(Cell.DRAGON_STONE, count=1)\n",
    "\n",
    "    return grid"
   ]
  }
 ],
 "metadata": {
  "kernelspec": {
   "display_name": "Python 3",
   "language": "python",
   "name": "python3"
  },
  "language_info": {
   "codemirror_mode": {
    "name": "ipython",
    "version": 3
   },
   "file_extension": ".py",
   "mimetype": "text/x-python",
   "name": "python",
   "nbconvert_exporter": "python",
   "pygments_lexer": "ipython3",
   "version": "3.6.4"
  }
 },
 "nbformat": 4,
 "nbformat_minor": 2
}
